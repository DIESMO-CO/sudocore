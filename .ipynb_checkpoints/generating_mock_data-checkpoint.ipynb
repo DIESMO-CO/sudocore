{
 "cells": [
  {
   "cell_type": "code",
   "execution_count": null,
   "metadata": {},
   "outputs": [],
   "source": [
    "import pandas as pd \n",
    "import random \n",
    "import numpy as np\n",
    "from datetime import datetime, timedelta\n",
    "import os"
   ]
  },
  {
   "cell_type": "code",
   "execution_count": 3,
   "metadata": {},
   "outputs": [],
   "source": [
    "# Generate rooms\n",
    "df = pd.DataFrame({'room_id': [1, 2, 3, 4], \n",
    "      'room_name': ['A-162', 'B-19', 'C-91', 'D-23']\n",
    "     })\n",
    "df.to_csv(\"Rooms.csv\", index=False)"
   ]
  },
  {
   "cell_type": "code",
   "execution_count": 4,
   "metadata": {},
   "outputs": [],
   "source": [
    "# Generate devices\n",
    "\n",
    "room_ids = [1, 2, 3, 4,]\n",
    "device_types = [\"lights\", \"temperature\", \"security\", \"appliances\"]\n",
    "device_type_to_name_map = {\n",
    "    \"lights\": [\"Philips Hue Bulbs\", \"Belkin WeMo Smart Light Switch\", \"Kasa Smart LED\"],\n",
    "    \"temperature\": [\"Nest T3021US Learning Thermostat\", \"SwitchBot Smart Hygrometer Thermometer\", \n",
    "                    \"HOBO Temperature Data Logger\", \"ThermoPro TP50 Digital Hygrometer\"],\n",
    "    \"security\": [\"Bitdefender BOX IoT Security Solution\", \"August Smart Lock\", \n",
    "                 \"TP-Link Tapo Smart Cam\", ],\n",
    "    \"appliances\": [\"Amazon Echo\", \"Alexa\", \"Google Home\", \"Samson Smart Fridge\", \n",
    "                   \"Kuri Mobile Robot\", \"Ecovacs Deebot\"]\n",
    "}\n",
    "device_type_to_energy_consumption_map = {\n",
    "    \"lights\": [1, 15],\n",
    "    \"temperature\": [0, 7],\n",
    "    \"security\": [2, 20],\n",
    "    \"appliances\": [5, 60]\n",
    "}\n",
    "\n",
    "# Empty dataframe with adequate columns\n",
    "df = pd.DataFrame(columns=[\"device_id\", \"device_name\", \"room_id\", \"device_type\", \"device_kwh\"])\n",
    "for i in range(40): # generate 40 devices\n",
    "    device_type = random.choice(device_types)\n",
    "    device_id = i\n",
    "    device_name = random.choice(device_type_to_name_map[device_type]) + \" \" + str(i)\n",
    "    room_id = random.choice(room_ids)\n",
    "    device_kwh = round(random.uniform(device_type_to_energy_consumption_map[device_type][0],\n",
    "                               device_type_to_energy_consumption_map[device_type][1]), 2)\n",
    "    df.loc[len(df)] = [device_id, device_name, room_id, device_type, device_kwh]\n",
    "\n",
    "df.to_csv(\"Devices.csv\", index=False)"
   ]
  },
  {
   "cell_type": "code",
   "execution_count": null,
   "metadata": {},
   "outputs": [],
   "source": [
    "device_ids = list(range(0, 40))\n",
    "\n",
    "def gen_datetime(min_year=2020, max_year=2021):\n",
    "    # generate a datetime in format yyyy-mm-dd hh:mm:ss.000000\n",
    "    start = datetime(min_year, 1, 1, 00, 00, 00)\n",
    "    years = max_year - min_year + 1\n",
    "    end = start + timedelta(days=365 * years)\n",
    "    return start + (end - start) * random.random()\n",
    "\n",
    "timestamps = [gen_datetime() for i in range(1000)]\n",
    "device_ids = [random.choice(device_ids) for i in range(1000)]\n"
   ]
  },
  {
   "cell_type": "code",
   "execution_count": null,
   "metadata": {},
   "outputs": [],
   "source": []
  },
  {
   "cell_type": "code",
   "execution_count": null,
   "metadata": {},
   "outputs": [],
   "source": [
    "df = pd.DataFrame({\n",
    "    \"timestamp\": timestamps,\n",
    "    \"devide_id\": device_ids\n",
    "})\n",
    "\n",
    "df.to_csv(\"DataLog.csv\", index=False)"
   ]
  },
  {
   "cell_type": "code",
   "execution_count": null,
   "metadata": {},
   "outputs": [],
   "source": []
  }
 ],
 "metadata": {
  "kernelspec": {
   "display_name": "Python 3",
   "language": "python",
   "name": "python3"
  },
  "language_info": {
   "codemirror_mode": {
    "name": "ipython",
    "version": 3
   },
   "file_extension": ".py",
   "mimetype": "text/x-python",
   "name": "python",
   "nbconvert_exporter": "python",
   "pygments_lexer": "ipython3",
   "version": "3.8.5"
  }
 },
 "nbformat": 4,
 "nbformat_minor": 4
}
